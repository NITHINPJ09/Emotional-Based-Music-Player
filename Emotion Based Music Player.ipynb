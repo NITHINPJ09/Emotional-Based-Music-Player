{
 "cells": [
  {
   "cell_type": "code",
   "execution_count": 1,
   "metadata": {},
   "outputs": [
    {
     "name": "stderr",
     "output_type": "stream",
     "text": [
      "C:\\ProgramData\\Anaconda3\\lib\\site-packages\\h5py\\__init__.py:36: FutureWarning: Conversion of the second argument of issubdtype from `float` to `np.floating` is deprecated. In future, it will be treated as `np.float64 == np.dtype(float).type`.\n",
      "  from ._conv import register_converters as _register_converters\n",
      "Using TensorFlow backend.\n"
     ]
    },
    {
     "name": "stdout",
     "output_type": "stream",
     "text": [
      "pygame 1.9.6\n",
      "Hello from the pygame community. https://www.pygame.org/contribute.html\n"
     ]
    }
   ],
   "source": [
    "import tensorflow as tf\n",
    "import keras\n",
    "import numpy as np\n",
    "import matplotlib.pyplot as plt\n",
    "import cv2\n",
    "import os\n",
    "from keras.models import Sequential\n",
    "from keras.layers import Conv2D, MaxPooling2D, AveragePooling2D\n",
    "from keras.layers import Dense, Activation, Dropout, Flatten\n",
    "from keras.preprocessing import image\n",
    "from keras.preprocessing.image import ImageDataGenerator\n",
    "from keras.models import load_model\n",
    "from pygame import mixer  \n",
    "from random import randrange"
   ]
  },
  {
   "cell_type": "code",
   "execution_count": 2,
   "metadata": {},
   "outputs": [],
   "source": [
    "num_classes = 7 \n",
    "batch_size = 256\n",
    "epochs = 25"
   ]
  },
  {
   "cell_type": "code",
   "execution_count": 3,
   "metadata": {},
   "outputs": [
    {
     "name": "stdout",
     "output_type": "stream",
     "text": [
      "Number of Instances:  35888\n",
      "Instance Length:  2304\n"
     ]
    }
   ],
   "source": [
    "with open(\"fer2013/fer2013.csv\") as f:\n",
    "    content = f.readlines()\n",
    "lines = np.array(content)\n",
    "num_of_instances = lines.size\n",
    "print(\"Number of Instances: \",num_of_instances)\n",
    "print(\"Instance Length: \",len(lines[1].split(\",\")[1].split(\" \")))"
   ]
  },
  {
   "cell_type": "code",
   "execution_count": 5,
   "metadata": {},
   "outputs": [],
   "source": [
    "x_train, y_train, x_test, y_test = [], [], [], []\n",
    "for i in range(1,num_of_instances):\n",
    "    try:\n",
    "        emotion, img, usage = lines[i].split(\",\")          \n",
    "        val = img.split(\" \")            \n",
    "        pixels = np.array(val, 'float32')        \n",
    "        emotion = keras.utils.to_categorical(emotion, num_classes)    \n",
    "        if 'Training' in usage:\n",
    "            y_train.append(emotion)\n",
    "            x_train.append(pixels)\n",
    "        elif 'PublicTest' in usage:\n",
    "            y_test.append(emotion)\n",
    "            x_test.append(pixels)\n",
    "    except:\n",
    "        print(\"\", end=\"\")"
   ]
  },
  {
   "cell_type": "code",
   "execution_count": 7,
   "metadata": {},
   "outputs": [
    {
     "name": "stdout",
     "output_type": "stream",
     "text": [
      "28709 Train Samples\n",
      "3589 Test Samples\n"
     ]
    }
   ],
   "source": [
    "x_train = np.array(x_train, 'float32')\n",
    "y_train = np.array(y_train, 'float32')\n",
    "x_test = np.array(x_test, 'float32')\n",
    "y_test = np.array(y_test, 'float32')\n",
    "x_train /= 255\n",
    "x_test /= 255\n",
    "x_train = x_train.reshape(x_train.shape[0], 48, 48, 1)\n",
    "x_train = x_train.astype('float32')\n",
    "x_test = x_test.reshape(x_test.shape[0], 48, 48, 1)\n",
    "x_test = x_test.astype('float32')\n",
    "print(x_train.shape[0], 'Train Samples')\n",
    "print(x_test.shape[0], 'Test Samples')"
   ]
  },
  {
   "cell_type": "code",
   "execution_count": 21,
   "metadata": {},
   "outputs": [],
   "source": [
    "model = Sequential()\n",
    "model.add(Conv2D(64, (5, 5), activation='relu', input_shape=(48,48,1)))\n",
    "model.add(MaxPooling2D(pool_size=(5,5), strides=(2, 2)))\n",
    "model.add(Conv2D(64, (3, 3), activation='relu'))\n",
    "model.add(Conv2D(64, (3, 3), activation='relu'))\n",
    "model.add(AveragePooling2D(pool_size=(3,3), strides=(2, 2)))\n",
    "model.add(Conv2D(128, (3, 3), activation='relu'))\n",
    "model.add(Conv2D(128, (3, 3), activation='relu'))\n",
    "model.add(AveragePooling2D(pool_size=(3,3), strides=(2, 2)))\n",
    "model.add(Flatten())\n",
    "model.add(Dense(1024, activation='relu'))\n",
    "model.add(Dropout(0.2))\n",
    "model.add(Dense(1024, activation='relu'))\n",
    "model.add(Dropout(0.2))\n",
    "model.add(Dense(num_classes, activation='softmax'))"
   ]
  },
  {
   "cell_type": "code",
   "execution_count": 17,
   "metadata": {},
   "outputs": [],
   "source": [
    "gen = ImageDataGenerator()\n",
    "train_generator = gen.flow(x_train, y_train, batch_size=batch_size)\n",
    "model.compile(loss='categorical_crossentropy', optimizer=keras.optimizers.Adam(), metrics=['accuracy'])"
   ]
  },
  {
   "cell_type": "code",
   "execution_count": 18,
   "metadata": {},
   "outputs": [
    {
     "name": "stdout",
     "output_type": "stream",
     "text": [
      "Epoch 1/25\n",
      "256/256 [==============================] - 704s 3s/step - loss: 1.7922 - acc: 0.2587\n",
      "Epoch 2/25\n",
      "256/256 [==============================] - 689s 3s/step - loss: 1.5625 - acc: 0.3795\n",
      "Epoch 3/25\n",
      "256/256 [==============================] - 707s 3s/step - loss: 1.3894 - acc: 0.4640\n",
      "Epoch 4/25\n",
      "256/256 [==============================] - 720s 3s/step - loss: 1.2815 - acc: 0.5076\n",
      "Epoch 5/25\n",
      "256/256 [==============================] - 699s 3s/step - loss: 1.1945 - acc: 0.5446\n",
      "Epoch 6/25\n",
      "256/256 [==============================] - 673s 3s/step - loss: 1.1351 - acc: 0.5697\n",
      "Epoch 7/25\n",
      "256/256 [==============================] - 676s 3s/step - loss: 1.0733 - acc: 0.5954\n",
      "Epoch 8/25\n",
      "256/256 [==============================] - 675s 3s/step - loss: 1.0248 - acc: 0.6146\n",
      "Epoch 9/25\n",
      "256/256 [==============================] - 675s 3s/step - loss: 0.9655 - acc: 0.6374\n",
      "Epoch 10/25\n",
      "256/256 [==============================] - 677s 3s/step - loss: 0.9168 - acc: 0.6547\n",
      "Epoch 11/25\n",
      "256/256 [==============================] - 673s 3s/step - loss: 0.8627 - acc: 0.6774\n",
      "Epoch 12/25\n",
      "256/256 [==============================] - 675s 3s/step - loss: 0.7924 - acc: 0.7055\n",
      "Epoch 13/25\n",
      "256/256 [==============================] - 677s 3s/step - loss: 0.7429 - acc: 0.7241\n",
      "Epoch 14/25\n",
      "256/256 [==============================] - 674s 3s/step - loss: 0.6857 - acc: 0.7461\n",
      "Epoch 15/25\n",
      "256/256 [==============================] - 676s 3s/step - loss: 0.6293 - acc: 0.7678\n",
      "Epoch 16/25\n",
      "256/256 [==============================] - 678s 3s/step - loss: 0.5617 - acc: 0.7922\n",
      "Epoch 17/25\n",
      "256/256 [==============================] - 673s 3s/step - loss: 0.5219 - acc: 0.8061\n",
      "Epoch 18/25\n",
      "256/256 [==============================] - 678s 3s/step - loss: 0.4766 - acc: 0.8239\n",
      "Epoch 19/25\n",
      "256/256 [==============================] - 674s 3s/step - loss: 0.4221 - acc: 0.8430\n",
      "Epoch 20/25\n",
      "256/256 [==============================] - 682s 3s/step - loss: 0.3721 - acc: 0.8635\n",
      "Epoch 21/25\n",
      "256/256 [==============================] - 675s 3s/step - loss: 0.3470 - acc: 0.8736\n",
      "Epoch 22/25\n",
      "256/256 [==============================] - 673s 3s/step - loss: 0.2906 - acc: 0.8943\n",
      "Epoch 23/25\n",
      "256/256 [==============================] - 718s 3s/step - loss: 0.2784 - acc: 0.8979\n",
      "Epoch 24/25\n",
      "256/256 [==============================] - 732s 3s/step - loss: 0.2610 - acc: 0.9046\n",
      "Epoch 25/25\n",
      "256/256 [==============================] - 720s 3s/step - loss: 0.2219 - acc: 0.9199\n"
     ]
    }
   ],
   "source": [
    "fit = True\n",
    "if fit == True:\n",
    "    #model.fit_generator(x_train, y_train, epochs=epochs) \n",
    "    model.fit_generator(train_generator, steps_per_epoch=batch_size, epochs=epochs) \n",
    "else:\n",
    "    model.load_weights('facial_expression_model_weights.h5') "
   ]
  },
  {
   "cell_type": "code",
   "execution_count": 20,
   "metadata": {},
   "outputs": [],
   "source": [
    "model.save('model25.h5')\n",
    "model.save_weights(\"model25_weight.h5\")"
   ]
  },
  {
   "cell_type": "code",
   "execution_count": 8,
   "metadata": {},
   "outputs": [
    {
     "name": "stdout",
     "output_type": "stream",
     "text": [
      "Train Loss: 0.14504007763584237\n",
      "Train Accuracy: 95.07819847434602\n",
      "Test Loss: 2.5765576710704976\n",
      "Test Accuracy: 56.56171635636117\n"
     ]
    }
   ],
   "source": [
    "train_score = model.evaluate(x_train, y_train, verbose=0)\n",
    "print('Train Loss:', train_score[0])\n",
    "print('Train Accuracy:', 100*train_score[1])\n",
    "test_score = model.evaluate(x_test, y_test, verbose=0)\n",
    "print('Test Loss:', test_score[0])\n",
    "print('Test Accuracy:', 100*test_score[1])"
   ]
  },
  {
   "cell_type": "code",
   "execution_count": 12,
   "metadata": {},
   "outputs": [
    {
     "name": "stdout",
     "output_type": "stream",
     "text": [
      "[INFO] loading model...\n",
      "Taken Snapshot\n"
     ]
    },
    {
     "data": {
      "image/png": "[encoded data removed]",
      "text/plain": [
       "<Figure size 432x288 with 1 Axes>"
      ]
     },
     "metadata": {},
     "output_type": "display_data"
    },
    {
     "name": "stdout",
     "output_type": "stream",
     "text": [
      "Detected Emotion: Angry\n",
      "No songs are available for the detected emotion\n",
      "Taken Snapshot\n"
     ]
    },
    {
     "data": {
      "image/png": "[encoded data removed]",
      "text/plain": [
       "<Figure size 432x288 with 1 Axes>"
      ]
     },
     "metadata": {},
     "output_type": "display_data"
    },
    {
     "name": "stdout",
     "output_type": "stream",
     "text": [
      "Detected Emotion: Happy\n",
      "Name of the song :sample_5.mp3\n",
      "Taken Snapshot\n"
     ]
    },
    {
     "data": {
      "image/png": "[encoded data removed]",
      "text/plain": [
       "<Figure size 432x288 with 1 Axes>"
      ]
     },
     "metadata": {},
     "output_type": "display_data"
    },
    {
     "name": "stdout",
     "output_type": "stream",
     "text": [
      "Detected Emotion: Disgust\n",
      "No songs are available for the detected emotion\n",
      "Exiting from the application.....\n"
     ]
    }
   ],
   "source": [
    "def emotion_analysis(emotions):\n",
    "    y_pos = np.arange(len(objects))    \n",
    "    plt.bar(y_pos, emotions, align='center', alpha=0.5)\n",
    "    plt.xticks(y_pos, objects)\n",
    "    plt.ylabel('Percentage')\n",
    "    plt.title('Emotion')    \n",
    "    plt.show()\n",
    "\n",
    "currently_playing_song = None\n",
    "model = load_model('model25.h5')\n",
    "objects = ('Angry', 'Disgust', 'Fear', 'Happy', 'Sad', 'Surprise', 'Neutral')\n",
    "face_model = \"res10_300x300_ssd_iter_140000.caffemodel\"\n",
    "prototxt = \"deploy.prototxt.txt\"\n",
    "print(\"[INFO] loading model...\")\n",
    "net = cv2.dnn.readNetFromCaffe(prototxt, face_model)\n",
    "cv2.namedWindow(\"Emotion Based Music Player\", cv2.WINDOW_NORMAL)\n",
    "vc = cv2.VideoCapture(0)\n",
    "rval, frame = vc.read()\n",
    "while True: \n",
    "    if frame is not None:     \n",
    "        frame = cv2.flip(frame, 1) \n",
    "        keypress = cv2.waitKey(1)\n",
    "        (h, w) = frame.shape[:2]\n",
    "        blob = cv2.dnn.blobFromImage(cv2.resize(frame, (300, 300)), 1.0, (300, 300), (104.0, 177.0, 123.0))\n",
    "        net.setInput(blob)\n",
    "        detections = net.forward()\n",
    "        for i in range(0, detections.shape[2]):\n",
    "            confidence = detections[0, 0, i, 2]\n",
    "            if confidence > 0.5:\n",
    "                box = detections[0, 0, i, 3:7] * np.array([w, h, w, h])\n",
    "                (startX, startY, endX, endY) = box.astype(\"int\")\n",
    "                cropped_face = frame[startY:endY , startX:endX]\n",
    "                text = \"{:.2f}%\".format(confidence * 100)\n",
    "                y = startY - 10 if startY - 10 > 10 else startY + 10\n",
    "                cv2.rectangle(frame, (startX, startY), (endX, endY), (0, 0, 255), 2)\n",
    "                cv2.putText(frame, text, (startX, y), cv2.FONT_HERSHEY_SIMPLEX, 0.45, (0, 0, 255), 2)\n",
    "                keypress = cv2.waitKey(1)\n",
    "                if keypress == ord('s'):\n",
    "                    print(\"Taken Snapshot\")\n",
    "                    cv2.imwrite(\"Original_Cropped.jpg\", cropped_face)\n",
    "                    file = 'Original_Cropped.jpg'\n",
    "                    true_image = image.load_img(file)\n",
    "                    img = image.load_img(file, grayscale=True, target_size=(48, 48))                   \n",
    "                    x = image.img_to_array(img)\n",
    "                    x = np.expand_dims(x, axis = 0)\n",
    "                    x /= 255\n",
    "                    custom = model.predict(x)\n",
    "                    emotion_analysis(custom[0])\n",
    "                    files = os.listdir(objects[np.argmax(custom[0])])                   \n",
    "                    print('Detected Emotion: ' + objects[np.argmax(custom[0])])\n",
    "                    if len(files) == 0:\n",
    "                        mixer.init()\n",
    "                        mixer.music.stop()\n",
    "                        print(\"No songs are available for the detected emotion\")\n",
    "                    else:                                                \n",
    "                        song_name = files[randrange(len(files))]\n",
    "                        while song_name == currently_playing_song:\n",
    "                            song_name = files[randrange(len(files))]\n",
    "                        currently_playing_song = song_name                                                \n",
    "                        print('Name of the song :' + song_name)\n",
    "                        selected = objects[np.argmax(custom[0])] + '/' + song_name\n",
    "                        mixer.init()\n",
    "                        mixer.music.stop()\n",
    "                        mixer.music.load(selected)\n",
    "                        mixer.music.play(-1)                            \n",
    "    if keypress == ord('q'):\n",
    "        mixer.init()\n",
    "        mixer.music.stop()\n",
    "        print(\"Exiting from the application.....\")\n",
    "        break\n",
    "    cv2.imshow(\"Emotion Based Music Player\",frame)\n",
    "    rval, frame = vc.read()   \n",
    "vc.release()\n",
    "cv2.destroyAllWindows()"
   ]
  }
 ],
 "metadata": {
  "kernelspec": {
   "display_name": "Python 3",
   "language": "python",
   "name": "python3"
  },
  "language_info": {
   "codemirror_mode": {
    "name": "ipython",
    "version": 3
   },
   "file_extension": ".py",
   "mimetype": "text/x-python",
   "name": "python",
   "nbconvert_exporter": "python",
   "pygments_lexer": "ipython3",
   "version": "3.6.5"
  }
 },
 "nbformat": 4,
 "nbformat_minor": 2
}
